{
 "cells": [
  {
   "cell_type": "code",
   "execution_count": 1,
   "metadata": {},
   "outputs": [],
   "source": [
    "import sys # required for relative imports in jupyter lab\n",
    "sys.path.insert(0, '../') \n",
    "\n",
    "from cosmosis.model import tv_model\n",
    "from cosmosis.learning import Learn, Selector\n",
    "from cosmosis.dataset import LoadImage\n",
    "\n",
    "from dataset import Ranzcr\n",
    "\n",
    "from torch.optim import Adam\n",
    "from torch.nn import BCEWithLogitsLoss\n",
    "from torch.optim.lr_scheduler import ReduceLROnPlateau\n",
    "from torchvision import transforms\n"
   ]
  },
  {
   "cell_type": "code",
   "execution_count": 2,
   "metadata": {},
   "outputs": [
    {
     "name": "stdout",
     "output_type": "stream",
     "text": [
      "CDataset created...\n",
      "epoch: 0 of 30, train loss: 3.197171446992384, val loss: 3.0472476009917786, lr: 0.01\n",
      "epoch: 3 of 30, train loss: 2.9732519405409756, val loss: 2.97784037717524, lr: 0.01\n",
      "epoch: 6 of 30, train loss: 2.899348134122892, val loss: 2.890446158865449, lr: 0.01\n",
      "epoch: 9 of 30, train loss: 2.822044567479268, val loss: 2.816392767177552, lr: 0.01\n",
      "epoch: 12 of 30, train loss: 2.6790304653047885, val loss: 2.675175064402833, lr: 0.01\n",
      "epoch: 15 of 30, train loss: 2.5024320443610026, val loss: 2.53070250636045, lr: 0.01\n",
      "epoch: 18 of 30, train loss: 2.322127763027112, val loss: 2.3686651442606346, lr: 0.01\n",
      "epoch: 21 of 30, train loss: 2.1834335576903516, val loss: 2.296037054312545, lr: 0.01\n",
      "epoch: 24 of 30, train loss: 2.0271841784531914, val loss: 2.257635955054584, lr: 0.01\n",
      "epoch: 27 of 30, train loss: 1.8906842533459922, val loss: 2.1484678362887637, lr: 0.01\n",
      "test loss: 2.2460400247925154\n",
      "y_pred:\n",
      "tensor([[-1.1658e+01, -1.1301e+01, -9.9456e+00, -8.5105e+00, -1.0318e+01,\n",
      "         -1.1596e+01, -9.4801e+00, -3.7843e+00, -1.0394e+00,  7.8320e-01,\n",
      "         -1.4578e+01],\n",
      "        [-8.7483e+00, -7.9425e+00, -5.5530e+00, -8.6613e+00, -7.1033e+00,\n",
      "         -6.6640e+00, -6.7114e+00, -3.7472e+00, -9.4958e-01,  1.7397e+00,\n",
      "         -1.2448e+01],\n",
      "        [-7.9874e+00, -6.9970e+00, -5.3722e+00, -5.7838e+00, -6.5120e+00,\n",
      "         -1.0177e+01, -6.6642e+00, -1.8353e+00, -4.8190e-01, -4.5483e-01,\n",
      "         -8.8103e+00],\n",
      "        [-5.9789e+00, -1.2437e+00, -8.8810e-01, -6.4429e+00, -3.6397e+00,\n",
      "         -2.1023e+00,  1.7054e+00, -3.5881e+00,  1.2890e+00, -6.2076e-02,\n",
      "         -8.8376e+00],\n",
      "        [-9.0820e+00, -5.8119e+00, -1.9882e+00, -6.0982e+00, -4.2270e+00,\n",
      "         -2.5732e+00, -3.5624e+00, -1.3121e+00, -1.6105e+00,  1.7266e-02,\n",
      "         -9.5077e+00],\n",
      "        [-1.0870e+01, -7.8992e+00, -3.9943e+00, -7.7079e+00, -4.5705e+00,\n",
      "         -4.5868e+00, -5.8047e+00, -4.0579e+00,  3.0276e-01,  5.5695e-02,\n",
      "          8.7371e-01],\n",
      "        [-9.8376e+00, -9.1128e+00, -8.6105e+00, -6.2729e+00, -7.3648e+00,\n",
      "         -7.0999e+00, -7.7402e+00, -1.9121e+00, -1.0751e+00,  5.9336e-01,\n",
      "         -9.2928e+00],\n",
      "        [-1.7315e+01, -1.5367e+01, -1.1970e+01, -1.5070e+01, -1.3311e+01,\n",
      "         -1.5985e+01, -1.2683e+01, -3.8745e+00, -1.4821e+00,  1.2083e+00,\n",
      "         -1.8338e+01],\n",
      "        [-1.5926e+01, -1.2410e+01, -1.2118e+01, -1.1879e+01, -1.0424e+01,\n",
      "         -1.2644e+01, -8.7411e+00, -1.4548e+00,  2.8849e-02, -2.2279e+00,\n",
      "         -1.2572e+01],\n",
      "        [-8.0187e+00, -5.0935e+00, -1.5276e+00, -5.3906e+00, -5.7181e+00,\n",
      "         -4.3076e+00, -3.2911e+00, -2.5649e+00, -1.1153e+00,  8.3613e-01,\n",
      "         -7.2195e+00]], device='cuda:0')\n",
      " y:\n",
      "tensor([[0., 0., 0., 0., 0., 0., 0., 0., 0., 1., 0.],\n",
      "        [0., 0., 0., 0., 0., 0., 0., 0., 0., 1., 0.],\n",
      "        [0., 0., 0., 0., 0., 0., 0., 1., 0., 0., 0.],\n",
      "        [0., 1., 0., 0., 0., 0., 1., 0., 1., 0., 0.],\n",
      "        [0., 0., 0., 0., 0., 0., 0., 0., 1., 0., 0.],\n",
      "        [0., 0., 0., 0., 0., 0., 0., 0., 0., 1., 1.],\n",
      "        [0., 0., 0., 0., 0., 0., 0., 1., 0., 0., 0.],\n",
      "        [0., 0., 0., 0., 0., 0., 0., 0., 0., 1., 0.],\n",
      "        [0., 0., 0., 0., 0., 0., 0., 0., 1., 0., 0.],\n",
      "        [0., 0., 0., 0., 0., 0., 0., 0., 0., 1., 0.]], device='cuda:0',\n",
      "       dtype=torch.float64)\n"
     ]
    },
    {
     "data": {
      "image/png": "[encoded data removed]",
      "text/plain": [
       "<Figure size 432x288 with 1 Axes>"
      ]
     },
     "metadata": {
      "needs_background": "light"
     },
     "output_type": "display_data"
    },
    {
     "name": "stdout",
     "output_type": "stream",
     "text": [
      "learning time: 1:08:00.783421\n"
     ]
    }
   ],
   "source": [
    "ds_params={'train_params': {'embed': [],\n",
    "                            'image_dir': './data/ranzcr/train',\n",
    "                            'transform': transforms.Compose([LoadImage(),\n",
    "                                                             transforms.RandomRotation(5),\n",
    "                                                             transforms.CenterCrop(1500),\n",
    "                                                             transforms.Resize((300,300)),\n",
    "                                                             transforms.RandomCrop(244),\n",
    "                                                             transforms.ToTensor(),\n",
    "                                                             ]),\n",
    "                            'target_transform': None}}\n",
    "\n",
    "model_params = {'model_name': 'resnet18',\n",
    "                'in_channels': 1,\n",
    "                'tv_params': {'num_classes': 11}}\n",
    "    \n",
    "opt_params = {'lr': 0.01}\n",
    "crit_params = {'reduction': 'sum'}\n",
    "sample_params = {'set_seed': False,\n",
    "                 'splits': (.7,.15)}\n",
    "sched_params = {'factor': .5,\n",
    "                'patience': 2,\n",
    "                'cooldown': 2}\n",
    "\n",
    "l = Learn([Ranzcr], tv_model, Selector, \n",
    "          Optimizer=Adam, Scheduler=ReduceLROnPlateau, Criterion=BCEWithLogitsLoss, \n",
    "          model_params=model_params, ds_params=ds_params, sample_params=sample_params,\n",
    "          opt_params=opt_params, sched_params=sched_params, crit_params=crit_params,\n",
    "          adapt=False, load_model=False, load_embed=False, save_model=True,\n",
    "          batch_size=64, epochs=30)"
   ]
  },
  {
   "cell_type": "code",
   "execution_count": 10,
   "metadata": {},
   "outputs": [
    {
     "name": "stdout",
     "output_type": "stream",
     "text": [
      "CDataset created...\n"
     ]
    }
   ],
   "source": [
    "ds_params={'train_params': {'embed': [],\n",
    "                            'image_dir': './data/ranzcr/train',\n",
    "                            'transform': transforms.Compose([LoadImage(),\n",
    "                                                             transforms.RandomRotation(5),\n",
    "                                                             transforms.CenterCrop(1500),\n",
    "                                                             transforms.Resize((300,300)),\n",
    "                                                             transforms.RandomCrop(244),\n",
    "                                                             transforms.ToTensor(),\n",
    "                                                             ]),\n",
    "                            'target_transform': None}}\n",
    "\n",
    "ranzcr = Ranzcr(**ds_params['train_params'])"
   ]
  },
  {
   "cell_type": "code",
   "execution_count": 26,
   "metadata": {},
   "outputs": [
    {
     "data": {
      "text/plain": [
       "'86119358030110783442164990675803210852'"
      ]
     },
     "execution_count": 26,
     "metadata": {},
     "output_type": "execute_result"
    }
   ],
   "source": [
    "ranzcr.ds_idx[0]"
   ]
  },
  {
   "cell_type": "code",
   "execution_count": 12,
   "metadata": {},
   "outputs": [
    {
     "data": {
      "text/plain": [
       "(tensor([[[0.2196, 0.2549, 0.2706,  ..., 0.0588, 0.0588, 0.0549],\n",
       "          [0.2000, 0.2471, 0.2745,  ..., 0.0667, 0.0667, 0.0667],\n",
       "          [0.1843, 0.2353, 0.2784,  ..., 0.0706, 0.0706, 0.0706],\n",
       "          ...,\n",
       "          [0.4471, 0.4431, 0.4431,  ..., 0.5373, 0.5255, 0.5137],\n",
       "          [0.4745, 0.4667, 0.4588,  ..., 0.5333, 0.5333, 0.5176],\n",
       "          [0.4980, 0.4784, 0.4706,  ..., 0.5294, 0.5333, 0.5216]]]),\n",
       " tensor([0., 0., 1., 0., 0., 1., 0., 0., 0., 1., 0.], dtype=torch.float64),\n",
       " [])"
      ]
     },
     "execution_count": 12,
     "metadata": {},
     "output_type": "execute_result"
    }
   ],
   "source": [
    "ranzcr['86119358030110783442164990675803210852']"
   ]
  },
  {
   "cell_type": "code",
   "execution_count": 43,
   "metadata": {},
   "outputs": [],
   "source": [
    "import torchvision\n",
    "from IPython.display import display\n",
    "\n",
    "im = torchvision.transforms.ToPILImage()(ranzcr[ranzcr.ds_idx[100]][0])"
   ]
  },
  {
   "cell_type": "code",
   "execution_count": 44,
   "metadata": {},
   "outputs": [
    {
     "data": {
      "image/png": "[encoded data removed]",
      "text/plain": [
       "<PIL.Image.Image image mode=L size=244x244 at 0x7F28D69D9C50>"
      ]
     },
     "metadata": {},
     "output_type": "display_data"
    }
   ],
   "source": [
    "display(im)"
   ]
  },
  {
   "cell_type": "code",
   "execution_count": null,
   "metadata": {},
   "outputs": [],
   "source": []
  }
 ],
 "metadata": {
  "kernelspec": {
   "display_name": "Python 3",
   "language": "python",
   "name": "python3"
  },
  "language_info": {
   "codemirror_mode": {
    "name": "ipython",
    "version": 3
   },
   "file_extension": ".py",
   "mimetype": "text/x-python",
   "name": "python",
   "nbconvert_exporter": "python",
   "pygments_lexer": "ipython3",
   "version": "3.7.9"
  }
 },
 "nbformat": 4,
 "nbformat_minor": 4
}
