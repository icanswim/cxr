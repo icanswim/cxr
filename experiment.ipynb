{
 "cells": [
  {
   "cell_type": "code",
   "execution_count": 1,
   "metadata": {},
   "outputs": [],
   "source": [
    "import sys # required for relative imports in jupyter lab\n",
    "sys.path.insert(0, '../') \n",
    "\n",
    "from cosmosis.model import tv_model\n",
    "from cosmosis.learning import Learn, Selector\n",
    "from cosmosis.dataset import LoadImage, AsTensor, Transpose\n",
    "\n",
    "from dataset import Ranzcr\n",
    "from learning import RSelector\n",
    "\n",
    "from torch.optim import Adam\n",
    "from torch.nn import BCEWithLogitsLoss, CrossEntropyLoss\n",
    "from torch.optim.lr_scheduler import ReduceLROnPlateau\n",
    "from torchvision import transforms\n",
    "\n",
    "from IPython.display import display\n"
   ]
  },
  {
   "cell_type": "code",
   "execution_count": 2,
   "metadata": {},
   "outputs": [
    {
     "name": "stdout",
     "output_type": "stream",
     "text": [
      "CDataset created...\n",
      "CDataset created...\n",
      "CDataset created...\n",
      "TorchVision model resnet18 loaded...\n",
      "epoch: 0 of 10, train loss: 1.9703012105676483, val loss: 2.5918873419331576, lr: 0.01\n",
      "epoch: 1 of 10, train loss: 1.343777916102772, val loss: 2.5388077722063245, lr: 0.01\n",
      "epoch: 2 of 10, train loss: 1.4045016292110328, val loss: 2.897991737380235, lr: 0.01\n",
      "epoch: 3 of 10, train loss: 1.5631510717961645, val loss: 2.5316522155329215, lr: 0.01\n",
      "epoch: 4 of 10, train loss: 1.4212110213444684, val loss: 7.43883593158519, lr: 0.01\n",
      "epoch: 5 of 10, train loss: 1.7414849334221798, val loss: 2.3406280799189267, lr: 0.01\n",
      "epoch: 6 of 10, train loss: 1.509659941494465, val loss: 0.8716596547804826, lr: 0.01\n",
      "epoch: 7 of 10, train loss: 1.054342712799371, val loss: 3.8430710922709057, lr: 0.01\n",
      "epoch: 8 of 10, train loss: 1.3508834657086908, val loss: 6.58781596653639, lr: 0.01\n",
      "epoch: 9 of 10, train loss: 1.5494467934488056, val loss: 1.6809446216157988, lr: 0.005\n",
      "test loss: 1.7365290459028888\n",
      "y_pred:\n",
      "tensor([[ 7.2265, -0.8600, -1.1731, -2.9095]], device='cuda:0')\n",
      " y:\n",
      "tensor([0], device='cuda:0')\n"
     ]
    },
    {
     "data": {
      "image/png": "[encoded data removed]",
      "text/plain": [
       "<Figure size 432x288 with 1 Axes>"
      ]
     },
     "metadata": {
      "needs_background": "light"
     },
     "output_type": "display_data"
    },
    {
     "name": "stdout",
     "output_type": "stream",
     "text": [
      "learning time: 0:07:56.907919\n"
     ]
    }
   ],
   "source": [
    "#TODO turn targets into ints also with none category\n",
    "#re-balanced datasets\n",
    "#create models for each target_type\n",
    "#accuracy metric AUC for each category averaged see kaggle\n",
    "#dataset normalization\n",
    "\n",
    "ds_params={'train_params': {'embed': [],\n",
    "                            'image_dir': './data/ranzcr/train',\n",
    "                            'target_csv': './data/ranzcr/train.csv',\n",
    "                            'target_type': 'ETT',\n",
    "                            'transform': transforms.Compose([LoadImage(),\n",
    "                                                             transforms.RandomRotation(10),\n",
    "                                                             transforms.Resize(1500),\n",
    "                                                             transforms.CenterCrop(1200),\n",
    "                                                             transforms.Resize(300),\n",
    "                                                             transforms.RandomCrop(244),\n",
    "                                                             transforms.ToTensor(),\n",
    "                                                             ]),\n",
    "                            'target_transform': transforms.Compose([AsTensor(),\n",
    "                                                                   ])},\n",
    "           'val_params': {'embed': [],\n",
    "                          'image_dir': './data/ranzcr/train',\n",
    "                          'target_csv': './data/ranzcr/train.csv',\n",
    "                          'target_type': 'ETT',\n",
    "                          'transform': transforms.Compose([LoadImage(),\n",
    "                                                           transforms.Resize(1500),\n",
    "                                                           transforms.CenterCrop(1200),\n",
    "                                                           transforms.Resize(300),\n",
    "                                                           transforms.CenterCrop(244),\n",
    "                                                           transforms.ToTensor(),\n",
    "                                                           ]),\n",
    "                          'target_transform': transforms.Compose([AsTensor(),\n",
    "                                                                  ])},\n",
    "           'test_params': {'embed': [],\n",
    "                           'image_dir': './data/ranzcr/train',\n",
    "                           'target_csv': './data/ranzcr/train.csv',\n",
    "                           'target_type': 'ETT',\n",
    "                           'transform': transforms.Compose([LoadImage(),\n",
    "                                                            transforms.Resize(1500),\n",
    "                                                            transforms.CenterCrop(1200),\n",
    "                                                            transforms.Resize(300),\n",
    "                                                            transforms.CenterCrop(244),\n",
    "                                                            transforms.ToTensor(),\n",
    "                                                            ]),\n",
    "                          'target_transform': transforms.Compose([AsTensor(),\n",
    "                                                                  ])}}\n",
    "\n",
    "model_params = {'model_name': 'resnet18',\n",
    "                'in_channels': 1,\n",
    "                'tv_params': {'num_classes': 4}} \n",
    "    \n",
    "opt_params = {'lr': 0.01}\n",
    "crit_params = {'reduction': 'sum'}\n",
    "\n",
    "#RSelector balances classes (target_type) of the Ranzcr ds\n",
    "sample_params = {'set_seed': False,\n",
    "                 'splits': (.7,.15),\n",
    "                 'target_type': 'ETT'}\n",
    "\n",
    "sched_params = {'factor': .5,\n",
    "                'patience': 2,\n",
    "                'cooldown': 2}\n",
    "\n",
    "l = Learn([Ranzcr,Ranzcr,Ranzcr], tv_model, RSelector, \n",
    "          Optimizer=Adam, Scheduler=ReduceLROnPlateau, Criterion=CrossEntropyLoss, \n",
    "          model_params=model_params, ds_params=ds_params, sample_params=sample_params,\n",
    "          opt_params=opt_params, sched_params=sched_params, crit_params=crit_params,\n",
    "          adapt=False, load_model=False, load_embed=False, save_model=False,\n",
    "          batch_size=16, epochs=10)"
   ]
  },
  {
   "cell_type": "code",
   "execution_count": null,
   "metadata": {},
   "outputs": [],
   "source": [
    "ds_params={'train_params': {'embed': [],\n",
    "                            'image_dir': './data/ranzcr/train',\n",
    "                            'target_csv': './data/ranzcr/train.csv',\n",
    "                            'target_type': 'ETT',\n",
    "                            'transform': transforms.Compose([LoadImage(),\n",
    "                                                             #transforms.RandomRotation(10),\n",
    "                                                             #transforms.Resize((1500)),\n",
    "                                                             #transforms.CenterCrop(1200),\n",
    "                                                             #transforms.Resize((300)),\n",
    "                                                             #transforms.CenterCrop(244),\n",
    "                                                             #transforms.ToTensor(),\n",
    "                                                             #transforms.Normalize(0.3,0.3),\n",
    "                                                             #transforms.ToPILImage(),\n",
    "                                                             ]),\n",
    "                            'target_transform': AsTensor()}}\n",
    "\n",
    "ranzcr = Ranzcr(**ds_params['train_params'])"
   ]
  },
  {
   "cell_type": "code",
   "execution_count": null,
   "metadata": {},
   "outputs": [],
   "source": [
    "ranzcr.ds_idx[0]"
   ]
  },
  {
   "cell_type": "code",
   "execution_count": null,
   "metadata": {},
   "outputs": [],
   "source": [
    "ranzcr['1.2.826.0.1.3680043.8.498.86119358030110783442164990675803210852'][1].shape"
   ]
  },
  {
   "cell_type": "code",
   "execution_count": null,
   "metadata": {},
   "outputs": [],
   "source": [
    "display(ranzcr['1.2.826.0.1.3680043.8.498.86119358030110783442164990675803210852'][0])"
   ]
  },
  {
   "cell_type": "code",
   "execution_count": null,
   "metadata": {},
   "outputs": [],
   "source": [
    "import pandas as pd"
   ]
  },
  {
   "cell_type": "code",
   "execution_count": null,
   "metadata": {},
   "outputs": [],
   "source": [
    "df = pd.read_csv('./data/ranzcr/train.csv', header=0, index_col=0)"
   ]
  },
  {
   "cell_type": "code",
   "execution_count": null,
   "metadata": {},
   "outputs": [],
   "source": [
    "df.describe()"
   ]
  },
  {
   "cell_type": "code",
   "execution_count": null,
   "metadata": {},
   "outputs": [],
   "source": [
    "df.loc['1.2.826.0.1.3680043.8.498.12976413966762576562651637188467814800']"
   ]
  },
  {
   "cell_type": "code",
   "execution_count": null,
   "metadata": {},
   "outputs": [],
   "source": [
    "print(df.shape)\n",
    "df.iloc[0]"
   ]
  },
  {
   "cell_type": "code",
   "execution_count": null,
   "metadata": {},
   "outputs": [],
   "source": [
    "pos = df.loc[(df.iloc[:,3] == 1) & (df.iloc[:,4] == 0) & (df.iloc[:,5] == 0) & (df.iloc[:,6] == 1)]\n",
    "pos\n",
    "#neg = df.loc[df.iloc[:,:3] == 0].sample(pos.shape[0])\n",
    "#neg.shape\n"
   ]
  },
  {
   "cell_type": "code",
   "execution_count": null,
   "metadata": {},
   "outputs": [],
   "source": [
    "pos"
   ]
  },
  {
   "cell_type": "code",
   "execution_count": null,
   "metadata": {},
   "outputs": [],
   "source": [
    "import numpy as np"
   ]
  },
  {
   "cell_type": "code",
   "execution_count": null,
   "metadata": {},
   "outputs": [],
   "source": [
    "df = pd.read_csv('./data/ranzcr/train.csv', header=0, index_col=0)"
   ]
  },
  {
   "cell_type": "code",
   "execution_count": null,
   "metadata": {},
   "outputs": [],
   "source": [
    "\n",
    "s0 = list(df.loc[(df.iloc[:,0] == 1)].index.to_numpy())\n",
    "cut1 = int(len(s0)*.7)\n",
    "cut2 = int(len(s0)*.15)\n",
    "s0train = s0[:cut1]\n",
    "s0train = np.random.choice(s0train, 128, replace=True)\n",
    "s0val = s0[cut1:cut1+cut2]\n",
    "s0test = s0[cut1+cut2:]\n",
    "\n",
    "s1 = list(df.loc[(df.iloc[:,1] == 1)].index.to_numpy())\n",
    "cut1 = int(len(s1)*.7)\n",
    "cut2 = int(len(s1)*.15)\n",
    "s1train = s1[:cut1]\n",
    "s1train = np.random.choice(s1train, 256, replace=False)\n",
    "s1val = s1[cut1:cut1+cut2]\n",
    "s1test = s1[cut1+cut2:]\n",
    "\n",
    "s2 = list(df.loc[(df.iloc[:,2] == 1)].index.to_numpy())\n",
    "cut1 = int(len(s2)*.7)\n",
    "cut2 = int(len(s2)*.15)\n",
    "s2train = s2[:cut1]\n",
    "s2train = np.random.choice(s2train, 512, replace=False)\n",
    "s2val = s2[cut1:cut1+cut2]\n",
    "s2test = s2[cut1+cut2:]\n",
    "\n",
    "s3 = list(df.loc[(df.iloc[:,0] == 0) & (df.iloc[:,1] == 0) & (df.iloc[:,2] == 0)].index.to_numpy())\n",
    "cut1 = int(len(s3)*.7)\n",
    "cut2 = int(len(s3)*.15)\n",
    "s3train = s3[:cut1]\n",
    "s3train = np.random.choice(s3train, 1024, replace=False)\n",
    "s3val = s3[cut1:cut1+cut2]\n",
    "s3test = s3[cut1+cut2:]\n",
    "\n",
    "train_idx = np.concatenate([s0train,s1train,s2train,s3train])\n",
    "val_idx = np.concatenate([s0val,s1val,s2val,s3val])\n",
    "test_idx = np.concatenate([s0test,s1test,s2test,s3test])\n"
   ]
  },
  {
   "cell_type": "code",
   "execution_count": null,
   "metadata": {},
   "outputs": [],
   "source": [
    "arr = np.asarray([0,0,0])\n",
    "res = np.where(arr == 1)[0] + 1\n",
    "len(res)"
   ]
  },
  {
   "cell_type": "code",
   "execution_count": null,
   "metadata": {},
   "outputs": [],
   "source": []
  }
 ],
 "metadata": {
  "kernelspec": {
   "display_name": "Python 3",
   "language": "python",
   "name": "python3"
  },
  "language_info": {
   "codemirror_mode": {
    "name": "ipython",
    "version": 3
   },
   "file_extension": ".py",
   "mimetype": "text/x-python",
   "name": "python",
   "nbconvert_exporter": "python",
   "pygments_lexer": "ipython3",
   "version": "3.7.9"
  }
 },
 "nbformat": 4,
 "nbformat_minor": 4
}
