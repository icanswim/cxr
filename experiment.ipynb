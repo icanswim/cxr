{
 "cells": [
  {
   "cell_type": "code",
   "execution_count": null,
   "metadata": {},
   "outputs": [],
   "source": [
    "import sys # required for relative imports in jupyter lab\n",
    "sys.path.insert(0, '../') \n",
    "\n",
    "from cosmosis.model import tv_model\n",
    "from cosmosis.learning import Learn, Selector\n",
    "from cosmosis.dataset import LoadImage, AsTensor, Transpose\n",
    "\n",
    "from dataset import Ranzcr\n",
    "from learning import RSelector\n",
    "\n",
    "from torch.optim import Adam\n",
    "from torch.nn import BCEWithLogitsLoss, CrossEntropyLoss\n",
    "from torch.optim.lr_scheduler import ReduceLROnPlateau\n",
    "from torchvision import transforms\n",
    "\n",
    "from IPython.display import display\n"
   ]
  },
  {
   "cell_type": "code",
   "execution_count": null,
   "metadata": {},
   "outputs": [],
   "source": [
    "#TODO turn targets into ints also with none category\n",
    "#re-balanced datasets\n",
    "#create models for each target_type\n",
    "#accuracy metric AUC for each category averaged see kaggle\n",
    "#dataset normalization\n",
    "\n",
    "ds_params={'train_params': {'embed': [],\n",
    "                            'image_dir': './data/ranzcr/train',\n",
    "                            'target_csv': './data/ranzcr/train.csv',\n",
    "                            'target_type': 'ETT',\n",
    "                            'transform': transforms.Compose([LoadImage(),\n",
    "                                                             transforms.RandomRotation(10),\n",
    "                                                             transforms.Resize(1500),\n",
    "                                                             transforms.CenterCrop(1200),\n",
    "                                                             transforms.Resize(300),\n",
    "                                                             transforms.RandomCrop(244),\n",
    "                                                             transforms.ToTensor(),\n",
    "                                                             ]),\n",
    "                            'target_transform': transforms.Compose([AsTensor(),\n",
    "                                                                   ])},\n",
    "           'val_params': {'embed': [],\n",
    "                          'image_dir': './data/ranzcr/train',\n",
    "                          'target_csv': './data/ranzcr/train.csv',\n",
    "                          'target_type': 'ETT',\n",
    "                          'transform': transforms.Compose([LoadImage(),\n",
    "                                                           transforms.Resize(1500),\n",
    "                                                           transforms.CenterCrop(1200),\n",
    "                                                           transforms.Resize(300),\n",
    "                                                           transforms.CenterCrop(244),\n",
    "                                                           transforms.ToTensor(),\n",
    "                                                           ]),\n",
    "                          'target_transform': transforms.Compose([AsTensor(),\n",
    "                                                                  ])},\n",
    "           'test_params': {'embed': [],\n",
    "                           'image_dir': './data/ranzcr/train',\n",
    "                           'target_csv': './data/ranzcr/train.csv',\n",
    "                           'target_type': 'ETT',\n",
    "                           'transform': transforms.Compose([LoadImage(),\n",
    "                                                            transforms.Resize(1500),\n",
    "                                                            transforms.CenterCrop(1200),\n",
    "                                                            transforms.Resize(300),\n",
    "                                                            transforms.CenterCrop(244),\n",
    "                                                            transforms.ToTensor(),\n",
    "                                                            ]),\n",
    "                          'target_transform': transforms.Compose([AsTensor(),\n",
    "                                                                  ])}}\n",
    "\n",
    "model_params = {'model_name': 'resnet18',\n",
    "                'in_channels': 1,\n",
    "                'tv_params': {'num_classes': 9}} \n",
    "    \n",
    "opt_params = {'lr': 0.01}\n",
    "crit_params = {'reduction': 'sum'}\n",
    "sample_params = {'set_seed': False,\n",
    "                 'splits': (.7,.15)}\n",
    "sched_params = {'factor': .5,\n",
    "                'patience': 2,\n",
    "                'cooldown': 2}\n",
    "\n",
    "l = Learn([Ranzcr,Ranzcr,Ranzcr], tv_model, RSelector, \n",
    "          Optimizer=Adam, Scheduler=ReduceLROnPlateau, Criterion=CrossEntropyLoss, \n",
    "          model_params=model_params, ds_params=ds_params, sample_params=sample_params,\n",
    "          opt_params=opt_params, sched_params=sched_params, crit_params=crit_params,\n",
    "          adapt=False, load_model=False, load_embed=False, save_model=True,\n",
    "          batch_size=32, epochs=10)"
   ]
  },
  {
   "cell_type": "code",
   "execution_count": null,
   "metadata": {},
   "outputs": [],
   "source": [
    "ds_params={'train_params': {'embed': [],\n",
    "                            'image_dir': './data/ranzcr/train',\n",
    "                            'target_csv': './data/ranzcr/train.csv',\n",
    "                            'target_type': None,\n",
    "                            'transform': transforms.Compose([LoadImage(),\n",
    "                                                             #transforms.RandomRotation(10),\n",
    "                                                             #transforms.Resize((1500)),\n",
    "                                                             #transforms.CenterCrop(1200),\n",
    "                                                             #transforms.Resize((300)),\n",
    "                                                             #transforms.CenterCrop(244),\n",
    "                                                             #transforms.ToTensor(),\n",
    "                                                             #transforms.Normalize(0.3,0.3),\n",
    "                                                             #transforms.ToPILImage(),\n",
    "                                                             ]),\n",
    "                            'target_transform': AsTensor()}}\n",
    "\n",
    "ranzcr = Ranzcr(**ds_params['train_params'])"
   ]
  },
  {
   "cell_type": "code",
   "execution_count": null,
   "metadata": {},
   "outputs": [],
   "source": [
    "ranzcr.ds_idx[0]"
   ]
  },
  {
   "cell_type": "code",
   "execution_count": null,
   "metadata": {},
   "outputs": [],
   "source": [
    "ranzcr['12976413966762576562651637188467814800']"
   ]
  },
  {
   "cell_type": "code",
   "execution_count": null,
   "metadata": {},
   "outputs": [],
   "source": [
    "display(ranzcr['12976413966762576562651637188467814800'][0])"
   ]
  },
  {
   "cell_type": "code",
   "execution_count": 1,
   "metadata": {},
   "outputs": [],
   "source": [
    "import pandas as pd"
   ]
  },
  {
   "cell_type": "code",
   "execution_count": null,
   "metadata": {},
   "outputs": [],
   "source": [
    "df = pd.read_csv('./data/ranzcr/train.csv', header=0, index_col=0)"
   ]
  },
  {
   "cell_type": "code",
   "execution_count": 11,
   "metadata": {},
   "outputs": [
    {
     "data": {
      "text/html": [
       "<div>\n",
       "<style scoped>\n",
       "    .dataframe tbody tr th:only-of-type {\n",
       "        vertical-align: middle;\n",
       "    }\n",
       "\n",
       "    .dataframe tbody tr th {\n",
       "        vertical-align: top;\n",
       "    }\n",
       "\n",
       "    .dataframe thead th {\n",
       "        text-align: right;\n",
       "    }\n",
       "</style>\n",
       "<table border=\"1\" class=\"dataframe\">\n",
       "  <thead>\n",
       "    <tr style=\"text-align: right;\">\n",
       "      <th></th>\n",
       "      <th>ETT - Abnormal</th>\n",
       "      <th>ETT - Borderline</th>\n",
       "      <th>ETT - Normal</th>\n",
       "      <th>NGT - Abnormal</th>\n",
       "      <th>NGT - Borderline</th>\n",
       "      <th>NGT - Incompletely Imaged</th>\n",
       "      <th>NGT - Normal</th>\n",
       "      <th>CVC - Abnormal</th>\n",
       "      <th>CVC - Borderline</th>\n",
       "      <th>CVC - Normal</th>\n",
       "      <th>Swan Ganz Catheter Present</th>\n",
       "    </tr>\n",
       "  </thead>\n",
       "  <tbody>\n",
       "    <tr>\n",
       "      <th>count</th>\n",
       "      <td>30083.000000</td>\n",
       "      <td>30083.000000</td>\n",
       "      <td>30083.000000</td>\n",
       "      <td>30083.000000</td>\n",
       "      <td>30083.000000</td>\n",
       "      <td>30083.000000</td>\n",
       "      <td>30083.000000</td>\n",
       "      <td>30083.000000</td>\n",
       "      <td>30083.000000</td>\n",
       "      <td>30083.000000</td>\n",
       "      <td>30083.000000</td>\n",
       "    </tr>\n",
       "    <tr>\n",
       "      <th>mean</th>\n",
       "      <td>0.002626</td>\n",
       "      <td>0.037829</td>\n",
       "      <td>0.240667</td>\n",
       "      <td>0.009274</td>\n",
       "      <td>0.017585</td>\n",
       "      <td>0.091347</td>\n",
       "      <td>0.159459</td>\n",
       "      <td>0.106206</td>\n",
       "      <td>0.281222</td>\n",
       "      <td>0.708839</td>\n",
       "      <td>0.027590</td>\n",
       "    </tr>\n",
       "    <tr>\n",
       "      <th>std</th>\n",
       "      <td>0.051179</td>\n",
       "      <td>0.190785</td>\n",
       "      <td>0.427496</td>\n",
       "      <td>0.095857</td>\n",
       "      <td>0.131438</td>\n",
       "      <td>0.288107</td>\n",
       "      <td>0.366110</td>\n",
       "      <td>0.308106</td>\n",
       "      <td>0.449603</td>\n",
       "      <td>0.454305</td>\n",
       "      <td>0.163799</td>\n",
       "    </tr>\n",
       "    <tr>\n",
       "      <th>min</th>\n",
       "      <td>0.000000</td>\n",
       "      <td>0.000000</td>\n",
       "      <td>0.000000</td>\n",
       "      <td>0.000000</td>\n",
       "      <td>0.000000</td>\n",
       "      <td>0.000000</td>\n",
       "      <td>0.000000</td>\n",
       "      <td>0.000000</td>\n",
       "      <td>0.000000</td>\n",
       "      <td>0.000000</td>\n",
       "      <td>0.000000</td>\n",
       "    </tr>\n",
       "    <tr>\n",
       "      <th>25%</th>\n",
       "      <td>0.000000</td>\n",
       "      <td>0.000000</td>\n",
       "      <td>0.000000</td>\n",
       "      <td>0.000000</td>\n",
       "      <td>0.000000</td>\n",
       "      <td>0.000000</td>\n",
       "      <td>0.000000</td>\n",
       "      <td>0.000000</td>\n",
       "      <td>0.000000</td>\n",
       "      <td>0.000000</td>\n",
       "      <td>0.000000</td>\n",
       "    </tr>\n",
       "    <tr>\n",
       "      <th>50%</th>\n",
       "      <td>0.000000</td>\n",
       "      <td>0.000000</td>\n",
       "      <td>0.000000</td>\n",
       "      <td>0.000000</td>\n",
       "      <td>0.000000</td>\n",
       "      <td>0.000000</td>\n",
       "      <td>0.000000</td>\n",
       "      <td>0.000000</td>\n",
       "      <td>0.000000</td>\n",
       "      <td>1.000000</td>\n",
       "      <td>0.000000</td>\n",
       "    </tr>\n",
       "    <tr>\n",
       "      <th>75%</th>\n",
       "      <td>0.000000</td>\n",
       "      <td>0.000000</td>\n",
       "      <td>0.000000</td>\n",
       "      <td>0.000000</td>\n",
       "      <td>0.000000</td>\n",
       "      <td>0.000000</td>\n",
       "      <td>0.000000</td>\n",
       "      <td>0.000000</td>\n",
       "      <td>1.000000</td>\n",
       "      <td>1.000000</td>\n",
       "      <td>0.000000</td>\n",
       "    </tr>\n",
       "    <tr>\n",
       "      <th>max</th>\n",
       "      <td>1.000000</td>\n",
       "      <td>1.000000</td>\n",
       "      <td>1.000000</td>\n",
       "      <td>1.000000</td>\n",
       "      <td>1.000000</td>\n",
       "      <td>1.000000</td>\n",
       "      <td>1.000000</td>\n",
       "      <td>1.000000</td>\n",
       "      <td>1.000000</td>\n",
       "      <td>1.000000</td>\n",
       "      <td>1.000000</td>\n",
       "    </tr>\n",
       "  </tbody>\n",
       "</table>\n",
       "</div>"
      ],
      "text/plain": [
       "       ETT - Abnormal  ETT - Borderline  ETT - Normal  NGT - Abnormal  \\\n",
       "count    30083.000000      30083.000000  30083.000000    30083.000000   \n",
       "mean         0.002626          0.037829      0.240667        0.009274   \n",
       "std          0.051179          0.190785      0.427496        0.095857   \n",
       "min          0.000000          0.000000      0.000000        0.000000   \n",
       "25%          0.000000          0.000000      0.000000        0.000000   \n",
       "50%          0.000000          0.000000      0.000000        0.000000   \n",
       "75%          0.000000          0.000000      0.000000        0.000000   \n",
       "max          1.000000          1.000000      1.000000        1.000000   \n",
       "\n",
       "       NGT - Borderline  NGT - Incompletely Imaged  NGT - Normal  \\\n",
       "count      30083.000000               30083.000000  30083.000000   \n",
       "mean           0.017585                   0.091347      0.159459   \n",
       "std            0.131438                   0.288107      0.366110   \n",
       "min            0.000000                   0.000000      0.000000   \n",
       "25%            0.000000                   0.000000      0.000000   \n",
       "50%            0.000000                   0.000000      0.000000   \n",
       "75%            0.000000                   0.000000      0.000000   \n",
       "max            1.000000                   1.000000      1.000000   \n",
       "\n",
       "       CVC - Abnormal  CVC - Borderline  CVC - Normal  \\\n",
       "count    30083.000000      30083.000000  30083.000000   \n",
       "mean         0.106206          0.281222      0.708839   \n",
       "std          0.308106          0.449603      0.454305   \n",
       "min          0.000000          0.000000      0.000000   \n",
       "25%          0.000000          0.000000      0.000000   \n",
       "50%          0.000000          0.000000      1.000000   \n",
       "75%          0.000000          1.000000      1.000000   \n",
       "max          1.000000          1.000000      1.000000   \n",
       "\n",
       "       Swan Ganz Catheter Present  \n",
       "count                30083.000000  \n",
       "mean                     0.027590  \n",
       "std                      0.163799  \n",
       "min                      0.000000  \n",
       "25%                      0.000000  \n",
       "50%                      0.000000  \n",
       "75%                      0.000000  \n",
       "max                      1.000000  "
      ]
     },
     "execution_count": 11,
     "metadata": {},
     "output_type": "execute_result"
    }
   ],
   "source": [
    "df.describe()"
   ]
  },
  {
   "cell_type": "code",
   "execution_count": null,
   "metadata": {},
   "outputs": [],
   "source": [
    "df.loc['1.2.826.0.1.3680043.8.498.12976413966762576562651637188467814800']"
   ]
  },
  {
   "cell_type": "code",
   "execution_count": null,
   "metadata": {},
   "outputs": [],
   "source": [
    "print(df.shape)\n",
    "df.iloc[0]"
   ]
  },
  {
   "cell_type": "code",
   "execution_count": null,
   "metadata": {},
   "outputs": [],
   "source": [
    "pos = df.loc[(df.iloc[:,3] == 1) & (df.iloc[:,4] == 0) & (df.iloc[:,5] == 0) & (df.iloc[:,6] == 1)]\n",
    "pos\n",
    "#neg = df.loc[df.iloc[:,:3] == 0].sample(pos.shape[0])\n",
    "#neg.shape\n"
   ]
  },
  {
   "cell_type": "code",
   "execution_count": null,
   "metadata": {},
   "outputs": [],
   "source": [
    "pos"
   ]
  },
  {
   "cell_type": "code",
   "execution_count": 25,
   "metadata": {},
   "outputs": [],
   "source": [
    "import numpy as np"
   ]
  },
  {
   "cell_type": "code",
   "execution_count": 26,
   "metadata": {},
   "outputs": [],
   "source": [
    "df = pd.read_csv('./data/ranzcr/train.csv', header=0, index_col=0)"
   ]
  },
  {
   "cell_type": "code",
   "execution_count": 44,
   "metadata": {},
   "outputs": [
    {
     "name": "stdout",
     "output_type": "stream",
     "text": [
      "1920 4510 4516\n",
      "79 1138 7240 21626\n"
     ]
    }
   ],
   "source": [
    "\n",
    "s0 = list(df.loc[(df.iloc[:,0] == 1)].index.to_numpy())\n",
    "cut1 = int(len(s0)*.7)\n",
    "cut2 = int(len(s0)*.15)\n",
    "s0train = s0[:cut1]\n",
    "s0train = np.random.choice(s0train, 128, replace=True)\n",
    "s0val = s0[cut1:cut1+cut2]\n",
    "s0test = s0[cut1+cut2:]\n",
    "\n",
    "s1 = list(df.loc[(df.iloc[:,1] == 1)].index.to_numpy())\n",
    "cut1 = int(len(s1)*.7)\n",
    "cut2 = int(len(s1)*.15)\n",
    "s1train = s1[:cut1]\n",
    "s1train = np.random.choice(s1train, 256, replace=False)\n",
    "s1val = s1[cut1:cut1+cut2]\n",
    "s1test = s1[cut1+cut2:]\n",
    "\n",
    "s2 = list(df.loc[(df.iloc[:,2] == 1)].index.to_numpy())\n",
    "cut1 = int(len(s2)*.7)\n",
    "cut2 = int(len(s2)*.15)\n",
    "s2train = s2[:cut1]\n",
    "s2train = np.random.choice(s2train, 512, replace=False)\n",
    "s2val = s2[cut1:cut1+cut2]\n",
    "s2test = s2[cut1+cut2:]\n",
    "\n",
    "s3 = list(df.loc[(df.iloc[:,0] == 0) & (df.iloc[:,1] == 0) & (df.iloc[:,2] == 0)].index.to_numpy())\n",
    "cut1 = int(len(s3)*.7)\n",
    "cut2 = int(len(s3)*.15)\n",
    "s3train = s3[:cut1]\n",
    "s3train = np.random.choice(s3train, 1024, replace=False)\n",
    "s3val = s3[cut1:cut1+cut2]\n",
    "s3test = s3[cut1+cut2:]\n",
    "\n",
    "train_idx = np.concatenate([s0train,s1train,s2train,s3train])\n",
    "val_idx = np.concatenate([s0val,s1val,s2val,s3val])\n",
    "test_idx = np.concatenate([s0test,s1test,s2test,s3test])\n"
   ]
  },
  {
   "cell_type": "code",
   "execution_count": 45,
   "metadata": {},
   "outputs": [
    {
     "data": {
      "text/plain": [
       "array(['1.2.826.0.1.3680043.8.498.13141026863513235286827713303306203465',\n",
       "       '1.2.826.0.1.3680043.8.498.10336813034626604482298505167326531069',\n",
       "       '1.2.826.0.1.3680043.8.498.11515952990369223019049010515619916078',\n",
       "       '1.2.826.0.1.3680043.8.498.13355346266941406291822060610556042880',\n",
       "       '1.2.826.0.1.3680043.8.498.41044962160142145688786829579416924470',\n",
       "       '1.2.826.0.1.3680043.8.498.11333894316143324337529593966002928477',\n",
       "       '1.2.826.0.1.3680043.8.498.77971501424098028244346066190633475857',\n",
       "       '1.2.826.0.1.3680043.8.498.12546492988826740238933256204661756580',\n",
       "       '1.2.826.0.1.3680043.8.498.62439834649842886640660835690358991386',\n",
       "       '1.2.826.0.1.3680043.8.498.90015812224915102704830196980092330554',\n",
       "       '1.2.826.0.1.3680043.8.498.10933179563635489243925857859639203436',\n",
       "       '1.2.826.0.1.3680043.8.498.13141026863513235286827713303306203465',\n",
       "       '1.2.826.0.1.3680043.8.498.12546492988826740238933256204661756580',\n",
       "       '1.2.826.0.1.3680043.8.498.75331468383658279470711928911783468014',\n",
       "       '1.2.826.0.1.3680043.8.498.75331468383658279470711928911783468014',\n",
       "       '1.2.826.0.1.3680043.8.498.58357452048183326275309010087045581177',\n",
       "       '1.2.826.0.1.3680043.8.498.77971501424098028244346066190633475857',\n",
       "       '1.2.826.0.1.3680043.8.498.97840557219108486344755043590070405478',\n",
       "       '1.2.826.0.1.3680043.8.498.59751820394879602489477370646391792712',\n",
       "       '1.2.826.0.1.3680043.8.498.65394558410013744518953268172240941678'],\n",
       "      dtype='<U64')"
      ]
     },
     "execution_count": 45,
     "metadata": {},
     "output_type": "execute_result"
    }
   ],
   "source": [
    "train_idx[:20]"
   ]
  },
  {
   "cell_type": "code",
   "execution_count": 33,
   "metadata": {},
   "outputs": [],
   "source": [
    "l = list(ds.index.to_numpy())"
   ]
  },
  {
   "cell_type": "code",
   "execution_count": 34,
   "metadata": {},
   "outputs": [
    {
     "data": {
      "text/plain": [
       "'1.2.826.0.1.3680043.8.498.64512214019606325590696659869142698791'"
      ]
     },
     "execution_count": 34,
     "metadata": {},
     "output_type": "execute_result"
    }
   ],
   "source": [
    "l[0]"
   ]
  },
  {
   "cell_type": "code",
   "execution_count": 10,
   "metadata": {},
   "outputs": [
    {
     "name": "stdout",
     "output_type": "stream",
     "text": [
      "(79, 12) (1138, 12) (7240, 12) (21626, 12)\n"
     ]
    }
   ],
   "source": [
    "print(ett_0.shape, ett_1.shape, ett_2.shape, ett_3.shape)"
   ]
  },
  {
   "cell_type": "code",
   "execution_count": null,
   "metadata": {},
   "outputs": [],
   "source": [
    "self.train_idx = self.dataset_idx[:cut1]\n",
    "self.val_idx = self.dataset_idx[cut1:cut1+cut2]\n",
    "self.test_idx = self.dataset_idx[cut1+cut2:]"
   ]
  }
 ],
 "metadata": {
  "kernelspec": {
   "display_name": "Python 3",
   "language": "python",
   "name": "python3"
  },
  "language_info": {
   "codemirror_mode": {
    "name": "ipython",
    "version": 3
   },
   "file_extension": ".py",
   "mimetype": "text/x-python",
   "name": "python",
   "nbconvert_exporter": "python",
   "pygments_lexer": "ipython3",
   "version": "3.7.9"
  }
 },
 "nbformat": 4,
 "nbformat_minor": 4
}
