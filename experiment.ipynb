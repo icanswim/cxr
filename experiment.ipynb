{
 "cells": [
  {
   "cell_type": "code",
   "execution_count": 1,
   "metadata": {},
   "outputs": [],
   "source": [
    "import sys # required for relative imports in jupyter lab\n",
    "sys.path.insert(0, '../') \n",
    "\n",
    "from cosmosis.model import tv_model\n",
    "from cosmosis.learning import Learn, Selector\n",
    "from cosmosis.dataset import LoadImage\n",
    "\n",
    "from dataset import Ranzcr\n",
    "\n",
    "from torch.optim import Adam\n",
    "from torch.nn import BCEWithLogitsLoss\n",
    "from torch.optim.lr_scheduler import ReduceLROnPlateau\n",
    "from torchvision import transforms\n"
   ]
  },
  {
   "cell_type": "code",
   "execution_count": 2,
   "metadata": {},
   "outputs": [
    {
     "name": "stdout",
     "output_type": "stream",
     "text": [
      "CDataset created...\n",
      "epoch: 0 of 2, train loss: 3.0997235015097986, val loss: 2.9427929525833574, lr: 0.01\n",
      "epoch: 1 of 2, train loss: 2.8967630480917332, val loss: 2.8646086890889655, lr: 0.01\n",
      "test loss: 0.012739488723127579\n",
      "y_pred:\n",
      "tensor([[-8.0768, -5.1072, -2.1059, -5.7382, -5.5199, -4.1572, -2.9097, -2.4745,\n",
      "         -1.3422,  1.0402, -5.9003]], device='cuda:0')\n",
      " y:\n",
      "tensor([[0., 0., 0., 0., 0., 0., 0., 0., 0., 1., 0.]], device='cuda:0',\n",
      "       dtype=torch.float64)\n"
     ]
    },
    {
     "data": {
      "image/png": "[encoded data removed]",
      "text/plain": [
       "<Figure size 432x288 with 1 Axes>"
      ]
     },
     "metadata": {
      "needs_background": "light"
     },
     "output_type": "display_data"
    },
    {
     "name": "stdout",
     "output_type": "stream",
     "text": [
      "learning time: 0:04:11.735680\n"
     ]
    }
   ],
   "source": [
    "ds_params={'train_params': {'embed': [],\n",
    "                            'image_dir': './data/ranzcr/train',\n",
    "                            'transform': transforms.Compose([LoadImage(),\n",
    "                                                             transforms.Resize((224,224)),\n",
    "                                                             transforms.ToTensor(),\n",
    "                                                             ]),\n",
    "                            'target_transform': None}}\n",
    "\n",
    "\n",
    "model_params = {'model_name': 'resnet18',\n",
    "                'in_channels': 1,\n",
    "                'tv_params': {'num_classes': 11}}\n",
    "    \n",
    "opt_params = {'lr': 0.01}\n",
    "crit_params = {'reduction': 'sum'}\n",
    "sample_params = {'set_seed': 88,\n",
    "                 'splits': (.8,.2)}\n",
    "sched_params = {'factor': .5,\n",
    "                'patience': 1,\n",
    "                'cooldown': 1}\n",
    "\n",
    "l = Learn([Ranzcr], tv_model, Selector, \n",
    "          Optimizer=Adam, Scheduler=ReduceLROnPlateau, Criterion=BCEWithLogitsLoss, \n",
    "          model_params=model_params, ds_params=ds_params, sample_params=sample_params,\n",
    "          opt_params=opt_params, sched_params=sched_params, crit_params=crit_params,\n",
    "          adapt=False, load_model=False, load_embed=False, save_model=False,\n",
    "          batch_size=64, epochs=2)"
   ]
  },
  {
   "cell_type": "code",
   "execution_count": null,
   "metadata": {},
   "outputs": [],
   "source": [
    "ds_params={'train_params': {'embed': [],\n",
    "                            'image_dir': './data/ranzcr/train',\n",
    "                            'transform': transforms.Compose([LoadImage(),\n",
    "                                                             transforms.Resize(224),\n",
    "                                                             transforms.ToTensor(),\n",
    "                                                             ]),\n",
    "                            'target_transform': None}}\n",
    "\n",
    "ranzcr = Ranzcr(**ds_params['train_params'])"
   ]
  },
  {
   "cell_type": "code",
   "execution_count": null,
   "metadata": {},
   "outputs": [],
   "source": [
    "ranzcr.ds_idx[0]"
   ]
  },
  {
   "cell_type": "code",
   "execution_count": null,
   "metadata": {},
   "outputs": [],
   "source": [
    "ranzcr['71626844098884852779488518078802116425']"
   ]
  },
  {
   "cell_type": "code",
   "execution_count": null,
   "metadata": {},
   "outputs": [],
   "source": [
    "len(ranzcr.ds_idx)"
   ]
  },
  {
   "cell_type": "code",
   "execution_count": null,
   "metadata": {},
   "outputs": [],
   "source": []
  }
 ],
 "metadata": {
  "kernelspec": {
   "display_name": "Python 3",
   "language": "python",
   "name": "python3"
  },
  "language_info": {
   "codemirror_mode": {
    "name": "ipython",
    "version": 3
   },
   "file_extension": ".py",
   "mimetype": "text/x-python",
   "name": "python",
   "nbconvert_exporter": "python",
   "pygments_lexer": "ipython3",
   "version": "3.7.9"
  }
 },
 "nbformat": 4,
 "nbformat_minor": 4
}
