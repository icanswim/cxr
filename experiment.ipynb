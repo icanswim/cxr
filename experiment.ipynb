{
 "cells": [
  {
   "cell_type": "code",
   "execution_count": null,
   "metadata": {},
   "outputs": [],
   "source": [
    "import sys # required for relative imports in jupyter lab\n",
    "sys.path.insert(0, '../') \n",
    "\n",
    "from cosmosis.model import tv_model\n",
    "from cosmosis.learning import Learn, Selector\n",
    "from cosmosis.dataset import LoadImage, AsTensor\n",
    "\n",
    "from dataset import Ranzcr\n",
    "\n",
    "from torch.optim import Adam\n",
    "from torch.nn import BCEWithLogitsLoss, CrossEntropyLoss\n",
    "from torch.optim.lr_scheduler import ReduceLROnPlateau\n",
    "from torchvision import transforms\n",
    "\n",
    "from IPython.display import display\n"
   ]
  },
  {
   "cell_type": "code",
   "execution_count": null,
   "metadata": {},
   "outputs": [],
   "source": [
    "#TODO turn targets into onehots also with none category\n",
    "#create models for each target_type\n",
    "#accuracy metric AOC for each category averaged see kaggle\n",
    "#dataset normalization\n",
    "\n",
    "ds_params={'train_params': {'embed': [],\n",
    "                            'image_dir': './data/ranzcr/train',\n",
    "                            'targets_csv': './data/ranzcr/train.csv',\n",
    "                            'target_type': 'ETT',\n",
    "                            'transform': transforms.Compose([LoadImage(),\n",
    "                                                             transforms.RandomRotation(10),\n",
    "                                                             transforms.Resize(1500),\n",
    "                                                             transforms.CenterCrop(1200),\n",
    "                                                             transforms.Resize(300),\n",
    "                                                             transforms.RandomCrop(244),\n",
    "                                                             transforms.ToTensor(),\n",
    "                                                             ]),\n",
    "                            'target_transform': AsTensor()},\n",
    "           'val_params': {'embed': [],\n",
    "                          'image_dir': './data/ranzcr/train',\n",
    "                          'targets_csv': './data/ranzcr/train.csv',\n",
    "                          'target_type': 'ETT',\n",
    "                          'transform': transforms.Compose([LoadImage(),\n",
    "                                                           transforms.Resize(1500),\n",
    "                                                           transforms.CenterCrop(1200),\n",
    "                                                           transforms.Resize(300),\n",
    "                                                           transforms.CenterCrop(244),\n",
    "                                                           transforms.ToTensor(),\n",
    "                                                          ]),\n",
    "                            'target_transform': AsTensor()},\n",
    "           'test_params': {'embed': [],\n",
    "                           'image_dir': './data/ranzcr/train',\n",
    "                           'targets_csv': './data/ranzcr/train.csv',\n",
    "                           'target_type': 'ETT',\n",
    "                           'transform': transforms.Compose([LoadImage(),\n",
    "                                                            transforms.Resize(1500),\n",
    "                                                            transforms.CenterCrop(1200),\n",
    "                                                            transforms.Resize(300),\n",
    "                                                            transforms.CenterCrop(244),\n",
    "                                                            transforms.ToTensor(),\n",
    "                                                            ]),\n",
    "                           'target_transform': AsTensor()}}\n",
    "\n",
    "\n",
    "model_params = {'model_name': 'resnet18',\n",
    "                'in_channels': 1,\n",
    "                'tv_params': {'num_classes': 3}} \n",
    "    \n",
    "opt_params = {'lr': 0.01}\n",
    "crit_params = {'reduction': 'sum'}\n",
    "sample_params = {'set_seed': False,\n",
    "                 'splits': (.7,.15)}\n",
    "sched_params = {'factor': .5,\n",
    "                'patience': 2,\n",
    "                'cooldown': 2}\n",
    "\n",
    "l = Learn([Ranzcr,Ranzcr,Ranzcr], tv_model, Selector, \n",
    "          Optimizer=Adam, Scheduler=ReduceLROnPlateau, Criterion=CrossEntropyLoss, \n",
    "          model_params=model_params, ds_params=ds_params, sample_params=sample_params,\n",
    "          opt_params=opt_params, sched_params=sched_params, crit_params=crit_params,\n",
    "          adapt=False, load_model=False, load_embed=False, save_model=True,\n",
    "          batch_size=128, epochs=10)"
   ]
  },
  {
   "cell_type": "code",
   "execution_count": null,
   "metadata": {},
   "outputs": [],
   "source": [
    "ds_params={'train_params': {'embed': [],\n",
    "                            'image_dir': './data/ranzcr/train',\n",
    "                            'targets_csv': './data/ranzcr/train.csv',\n",
    "                            'target_type': 'ETT',\n",
    "                            'transform': transforms.Compose([LoadImage(),\n",
    "                                                             transforms.RandomRotation(10),\n",
    "                                                             transforms.Resize((1500)),\n",
    "                                                             transforms.CenterCrop(1200),\n",
    "                                                             transforms.Resize((300)),\n",
    "                                                             transforms.RandomCrop(244),\n",
    "                                                             #transforms.ToTensor(),\n",
    "                                                             #transforms.Normalize(0.3,0.3),\n",
    "                                                             #transforms.ToPILImage(),\n",
    "                                                             ]),\n",
    "                            'target_transform': AsTensor()}}\n",
    "\n",
    "ranzcr = Ranzcr(**ds_params['train_params'])"
   ]
  },
  {
   "cell_type": "code",
   "execution_count": null,
   "metadata": {},
   "outputs": [],
   "source": [
    "ranzcr.ds_idx[0]"
   ]
  },
  {
   "cell_type": "code",
   "execution_count": null,
   "metadata": {},
   "outputs": [],
   "source": [
    "ranzcr['86119358030110783442164990675803210852'][1]"
   ]
  },
  {
   "cell_type": "code",
   "execution_count": null,
   "metadata": {},
   "outputs": [],
   "source": [
    "display(ranzcr['86119358030110783442164990675803210852'][0])"
   ]
  },
  {
   "cell_type": "code",
   "execution_count": null,
   "metadata": {},
   "outputs": [],
   "source": [
    "import pandas as pd"
   ]
  },
  {
   "cell_type": "code",
   "execution_count": null,
   "metadata": {},
   "outputs": [],
   "source": [
    "df = pd.read_csv('./data/ranzcr/train.csv', header=0, index_col=0)"
   ]
  },
  {
   "cell_type": "code",
   "execution_count": null,
   "metadata": {},
   "outputs": [],
   "source": [
    "df.shape"
   ]
  },
  {
   "cell_type": "code",
   "execution_count": null,
   "metadata": {},
   "outputs": [],
   "source": [
    "pos = df.loc[df.iloc[:,10] == 1]\n",
    "pos.shape\n",
    "neg = df.loc[df.iloc[:,10] == 0].sample(pos.shape[0])\n",
    "neg.shape\n"
   ]
  },
  {
   "cell_type": "code",
   "execution_count": null,
   "metadata": {},
   "outputs": [],
   "source": [
    "neg = df.loc[df.iloc[:,10] == 0].sample(pos.shape[0])\n",
    "neg.shape"
   ]
  },
  {
   "cell_type": "code",
   "execution_count": null,
   "metadata": {},
   "outputs": [],
   "source": [
    "pos"
   ]
  },
  {
   "cell_type": "code",
   "execution_count": null,
   "metadata": {},
   "outputs": [],
   "source": [
    "neg"
   ]
  },
  {
   "cell_type": "code",
   "execution_count": null,
   "metadata": {},
   "outputs": [],
   "source": []
  }
 ],
 "metadata": {
  "kernelspec": {
   "display_name": "Python 3",
   "language": "python",
   "name": "python3"
  },
  "language_info": {
   "codemirror_mode": {
    "name": "ipython",
    "version": 3
   },
   "file_extension": ".py",
   "mimetype": "text/x-python",
   "name": "python",
   "nbconvert_exporter": "python",
   "pygments_lexer": "ipython3",
   "version": "3.7.9"
  }
 },
 "nbformat": 4,
 "nbformat_minor": 4
}
